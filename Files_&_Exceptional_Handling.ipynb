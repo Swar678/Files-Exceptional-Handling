{
  "nbformat": 4,
  "nbformat_minor": 0,
  "metadata": {
    "colab": {
      "provenance": []
    },
    "kernelspec": {
      "name": "python3",
      "display_name": "Python 3"
    },
    "language_info": {
      "name": "python"
    }
  },
  "cells": [
    {
      "cell_type": "markdown",
      "source": [
        "# **Theory Questions**"
      ],
      "metadata": {
        "id": "TIN0ePdNN_XZ"
      }
    },
    {
      "cell_type": "markdown",
      "source": [
        "1. What is the difference between interpreted and compiled languages?\n",
        "   - Interpreted Languages: Code is read and executed line by line by an interpreter, during runtime.\n",
        "    - Slower execution (line-by-line), easier to test and debug quickly, no need to compile — just run, good for scripting, automation, data analysis\n",
        "    - Examples are Python, JavaScript, R\n",
        "   - Compiled Languages: Code is translated once entirely into machine code (binary) before execution by a compiler.\n",
        "    - Faster execution (after compilation), one-time translation, errors are shown before running, need to compile again after every change\n",
        "    - Examples are C, C++, Java (partially compiled)\n",
        "\n",
        "2. What is exception handling in Python?\n",
        "   - Exception handling in Python is a way to manage errors that occur during the execution of a program, so that the program doesn't crash and can continue running or exit gracefully.\n",
        "   - Exception can happen due to:\n",
        "     - Dividing by zero\n",
        "     - Accessing an invalid index\n",
        "     - Using a variable that doesn't exist\n",
        "     - Trying to open a file that isn't there\n",
        "   - It consists of following blocks:\n",
        "    - try: Code that might raise an exception\n",
        "    - except: Code to run if an exception occurs\n",
        "    - else: Runs if no exception occurs\n",
        "    - finally: Always runs (whether there is an exception or not)\n",
        "  - Example code:\n",
        "\n",
        "                 try:\n",
        "                     a=5/\"Ram\"\n",
        "                 except Exceptions as e:\n",
        "                     print(\"There is an error.\", e)\n",
        "                 finally:\n",
        "                     print(\"This will execute.\")\n",
        "\n",
        "3. What is the purpose of the finally block in exception handling?\n",
        "   - The finally block in exception handling is used to define code that will always execute, no matter what — whether an exception occurs or not.\n",
        "   - Its purpose are:\n",
        "      - To clean up resources like closing files, releasing memory, closing database connections, etc.\n",
        "      - To ensure important code always runs, even if an error happens in the try block.\n",
        "\n",
        "              try:\n",
        "                  f=open(\"Sample.txt\",\"w\")\n",
        "                  f.write(\"Hello, World!\")\n",
        "              except Exception as e:\n",
        "                  print(\"There is an error.\", e)\n",
        "              finally:\n",
        "                  f.close()\n",
        "                  print(\"File is closed.\")\n",
        "\n",
        "4. What is logging in Python?\n",
        "   - Logging in Python is the process of recording messages (like events, errors, warnings, or information) from the program during its execution, which helps to track the flow, debug issues, and monitor what's happening in our application — even after it runs.\n",
        "   - Log Levels:\n",
        "      - DEBUG: Detailed information for diagnosing problems\n",
        "      - INFO: Confirmation that things are working as expected\n",
        "      - WARNING: An indication that something unexpected happened\n",
        "      - ERROR: A more serious problem\n",
        "      - CRITICAL: A very serious error\n",
        "\n",
        "                  import logging\n",
        "                  logging.basicConfig(level=logging.INFO)\n",
        "                  logging.info(\"This is an info message.\")\n",
        "\n",
        "5. What is the significance of the __del__ method in Python?\n",
        "   - The __del__ method in Python is a destructor method. It is called automatically when an object is about to be destroyed or deleted, usually when there are no more references to the object.\n",
        "   - It used for:\n",
        "       - To clean up resources before an object is removed from memory.\n",
        "       - Closing files or database connections\n",
        "       - Releasing external resources\n",
        "       - Printing a message when an object is deleted (for debugging)\n",
        "\n",
        "6. What is the difference between import and from ... import in Python?\n",
        "   - import and from ... import are used to include external modules or parts of them in your Python code, but they work differently.\n",
        "   - In below example, it brings in the entire module. We must use the module name every time we use something from it.\n",
        "\n",
        "                       import math\n",
        "                       print(math.sqrt(5))\n",
        "    - In below example, it imports only specific parts (like a function, class, or variable) from the module. We can use it directly without the module name.\n",
        "\n",
        "                       from math import sqrt\n",
        "                       print(sqrt(5))\n",
        "\n",
        "7. How can you handle multiple exceptions in Python?\n",
        "   - There are three ways to handle it:\n",
        "   - 1. Multiple except blocks (Best for handling specific exceptions differently):\n",
        "\n",
        "                try:\n",
        "                    num = int(input(\"Please enter a number: \"))\n",
        "                    result = 10/num\n",
        "                except ValueError as e:\n",
        "                    print(\"You must enter a number.\", e)\n",
        "                except ZeroDivisionError as e:\n",
        "                    print(\"Cannot divided by zero.\", e)\n",
        "                except Exception as e:\n",
        "                    print(\"Some other error occured.\", e)\n",
        "\n",
        "\n",
        "  - 2. Single except block for multiple exceptions (When same action is enough):\n",
        "\n",
        "                  try:\n",
        "                      num= int(input(\"Please enter a number: \"))\n",
        "                      result = 10/num\n",
        "                  except (ValueError, ZeroDivisionError as e):\n",
        "                      print(\"Error:\", e)\n",
        "\n",
        "  - 3. Generic except block (Use carefully):\n",
        "     \n",
        "                try:\n",
        "                    num = int(input(\"Enter a number: \"))\n",
        "                    result = 10 / num\n",
        "                except Exception as e:\n",
        "                    print(\"Error:\", e)\n",
        "\n",
        "8. What is the purpose of the with statement when handling files in Python?\n",
        "   - The with statement in Python is used when working with files (and other resources) to ensure that they are properly managed and closed, even if an error occurs during the process.\n",
        "   - Purpose of with:\n",
        "      - It automatically handles closing the file after the block is executed.\n",
        "      - It makes code cleaner, safer, and less error-prone.\n",
        "\n",
        "              with open(\"Sample.txt\", \"r\") as file:\n",
        "                  content = file.read()\n",
        "                  print(content)\n",
        "\n",
        "9. What is the difference between multithreading and multiprocessing?\n",
        "   - Multithreading:\n",
        "       - Uses multiple threads within the same process.\n",
        "       - All threads share the same memory space.\n",
        "       - Good for I/O-bound tasks (like file reading, API calls, network operations).\n",
        "       - Threads run in parallel, but due to Python's GIL (Global Interpreter Lock), only one thread executes Python code at a time.\n",
        "       - Example use cases:\n",
        "       - Downloading multiple files at once\n",
        "       - Handling many user requests in a web server\n",
        "       - Reading from or writing to many files simultaneously\n",
        "\n",
        "                    import threading\n",
        "                    def task(a,b):\n",
        "                        print(a+b)\n",
        "\n",
        "                    thread1 = threading.Thread(target=task, args=(5,10))\n",
        "                    thread2 = threading.Thread(target=task, args=(20,30))\n",
        "\n",
        "                    thread1.start()\n",
        "                    thread2.start()\n",
        "\n",
        "                    thread1.join()\n",
        "                    thread2.join()\n",
        "\n",
        " - Multiprocessing:\n",
        "    - Uses multiple processes, each with its own memory space.\n",
        "    - Bypasses Python's GIL, so it allows true parallelism.\n",
        "    - Ideal for CPU-bound tasks (like heavy computations, mathematical operations).\n",
        "    - Example use cases:\n",
        "    - Image or video processing\n",
        "    - Machine learning model training\n",
        "    - Any task that is computationally expensive\n",
        "\n",
        "                    import multiprocessing\n",
        "                    def task(a,b):\n",
        "                        print(a+b, flush=True)\n",
        "\n",
        "                    p1 = multiprocessing.Process(target=task, args=(5,10))\n",
        "                    p2 = multiprocessing.Process(target=task, args=(20,30))\n",
        "\n",
        "                    p1.start()\n",
        "                    p2.start()\n",
        "\n",
        "                    p1.join()\n",
        "                    p2.join()\n",
        "\n",
        "10. What are the advantages of using logging in a program?\n",
        "    - 1. Levels of Severity:\n",
        "    - Logging supports different levels of messages:\n",
        "         - DEBUG: Detailed information for diagnosing problems.\n",
        "         - INFO: General information about program execution.\n",
        "         - WARNING: Something unexpected or a potential issue.\n",
        "         - ERROR: A more serious issue that prevents a part of the program from working.\n",
        "         - CRITICAL: A severe error indicating the program may not continue running.\n",
        "    - This helps filter what kind of messages we want to see or store.\n",
        "    - 2. Flexibility in Output Destination:\n",
        "    - We can send logs to:\n",
        "         - The console (like print)\n",
        "         - A file (to keep a history)\n",
        "    - 3. Timestamps and Formatting:\n",
        "    - Logs can include:\n",
        "         - Timestamps\n",
        "         - Line numbers\n",
        "         - Function names\n",
        "         - Custom messages\n",
        "   - 4. Better for Debugging and Maintenance:\n",
        "   - Easier to trace issues in production\n",
        "   - We can turn logging on/off or change levels without editing code (unlike print)\n",
        "   - 5. Non-intrusive and Scalable;\n",
        "   - We can leave logging calls in our code even in production.\n",
        "   - With print, we usually have to remove or comment them out.\n",
        "\n",
        "11. What is memory management in Python?\n",
        "    - Memory management in Python refers to the efficient handling, allocation, and release of memory used during program execution. Python automates much of this process, making it developer-friendly.\n",
        "\n",
        "12. What are the basic steps involved in exception handling in Python?\n",
        "    - Exception handling in Python is used to gracefully manage errors that might occur during program execution, so the program doesn't crash.\n",
        "    - Basic steps are:\n",
        "      - try block: We write the code that might cause an error inside the try block.\n",
        "      - except block: If an error occurs in the try block, it jumps to the except block where we handle the error.\n",
        "      - else block (optional): This runs if no exception occurs in the try block.\n",
        "      - finally block (optional): This runs no matter what, whether an exception occurred or not — often used to clean up resources (like closing a file or database).\n",
        "\n",
        "                       try:\n",
        "                           num = int(input(\"Enter a number: \"))\n",
        "                           result = 10 / num\n",
        "                       except ValueError:\n",
        "                           print(\"Invalid input. Please enter a number.\")\n",
        "                       except ZeroDivisionError:\n",
        "                           print(\"You can't divide by zero.\")\n",
        "                       else:\n",
        "                           print(\"Result is:\", result)\n",
        "                       finally:\n",
        "                           print(\"End of program.\")\n",
        "\n",
        "13. Why is memory management important in Python?\n",
        "    - 1. Uses Memory Efficiently: Prevents wastage of memory by releasing memory that is no longer needed. Frees up RAM so our system doesn't slow down or crash.\n",
        "    - 2. Avoids Memory Leaks: Without proper memory management, programs may hold on to unused memory (memory leaks), causing performance issues over time.\n",
        "    - 3. Improves Performance: Efficient memory use leads to faster program execution and better CPU resource usage.\n",
        "    - 4. Automatic Garbage Collection: Python has an automatic garbage collector that, tracks object references, frees memory when objects are no longer used.\n",
        "    - 5. Manages Dynamic Typing: Since Python is dynamically typed, memory is allocated at runtime, this flexibility requires strong internal memory management.\n",
        "\n",
        "14. What is the role of try and except in exception handling?\n",
        "    - try Block:\n",
        "    - This is where we place the code that might raise an exception.\n",
        "    - Python tries to execute this block.\n",
        "    - except Block:\n",
        "    - If an error (exception) occurs in the try block, control immediately jumps to the except block.\n",
        "    - Here we define how to handle that specific error.\n",
        "\n",
        "15. How does Python's garbage collection system work?\n",
        "    - Python's garbage collection system is responsible for automatically managing memory by cleaning up objects that are no longer in use—so developers don't need to manually free memory.\n",
        "    - Python mainly uses reference counting, combined with a cyclic garbage collector, to manage memory:\n",
        "    - Reference Counting:\n",
        "    - Every object in Python has a reference count.\n",
        "    - The number of variables or containers that refer to it.\n",
        "    - When reference count = 0, the object is no longer accessible and is immediately destroyed.\n",
        "    - Cyclic Garbage Collector:\n",
        "    - Reference counting fails with circular references\n",
        "    - Detects cycles, breaks them, reclaims the memory\n",
        "\n",
        "16. What is the purpose of the else block in exception handling?\n",
        "    - The else block in exception handling in Python is used to define a block of code that should run only if no exceptions were raised in the try block.\n",
        "    - Purpose of else:\n",
        "    - The else block runs only when the try block doesn't raise an exception.\n",
        "    - It keeps the try block focused only on code that might raise an error, while else is used for code that should run if everything goes well.\n",
        "\n",
        "17. What are the common logging levels in Python?\n",
        "    - Common Logging Levels (from lowest to highest severity):\n",
        "    - DEBUG (10): Detailed information, typically used for diagnosing issues while developing or debugging the code.\n",
        "    - INFO (20): General operational information about the program's execution, such as successful completion of tasks.\n",
        "    - WARNING (30): Indicates that something unexpected happened, but the program is still running as expected. It's a warning of a potential problem.\n",
        "    - ERROR (40): A serious issue that prevents the program from performing a task or operation properly, causing a failure in some part of the program.\n",
        "    - CRITICAL (50): A very severe problem, often indicating that the program will terminate or become unstable due to this issue.\n",
        "\n",
        "18. What is the difference between os.fork() and multiprocessing in Python?\n",
        "    - Both os.fork() and the multiprocessing module in Python are used to create new processes, but they work differently and are suitable for different use cases.\n",
        "    - os.fork(): Directly creates a new child process by duplicating the current process using the underlying Unix system call. It works on the Unix/Linux only (not available on Windows). The child process is an exact copy of the parent. We need to manually handle inter-process communication (IPC) if needed. Low-level process control; useful when we want maximum control over how processes are managed. It is more complex and error-prone; no cross-platform support.\n",
        "    - multiprocessing module: It provides a high-level, cross-platform interface to create and manage multiple processes. It works on cross-platform (works on Linux, Windows, macOS). Creates new processes using Process() objects. It provides built-in support for:\n",
        "      - Queues and Pipes for communication, Shared memory, Process pools\n",
        "    - It is easier and safer for writing concurrent Python code, especially with heavy CPU-bound tasks. It is slightly more overhead compared to os.fork() due to abstraction.\n",
        "\n",
        "19. What is the importance of closing a file in Python?\n",
        "    - 1. Saves Computer Memory:\n",
        "          - Every open file uses some memory.\n",
        "          - If we forget to close it, our computer might run out of space for new files.\n",
        "          - This can make our program slow or crash.\n",
        "    - 2. Makes Sure our Work is Saved:\n",
        "           - If we're writing something to a file, Python might wait before saving it.\n",
        "           - When we close the file, Python saves everything properly.\n",
        "           - If we don't close it, some data might not get saved at all.\n",
        "    - 3. It Lets Other Programs Use the File:\n",
        "          - Sometimes, if our file is open, other apps or programs can't use it.\n",
        "          - Closing it makes it free for others to open.\n",
        "    - 4. Prevents Errors:\n",
        "          - If we open too many files without closing them, Python will complain with an error.\n",
        "\n",
        "20. What is the difference between file.read() and file.readline() in Python?\n",
        "    - file.read(): Reads the entire file at once as a single string, we can use this when we want to get everything from the file in one go.\n",
        "\n",
        "                      with open(\"sample.txt\", \"r\") as file:\n",
        "                          content = file.read()\n",
        "                          print(content)\n",
        "\n",
        "    - file.readline(): Reads only one line at a time (up to the next \\n newline), we can use this when we want to read line by line (especially useful for big files).\n",
        "\n",
        "                     with open(\"sample.txt\", \"r\") as file:\n",
        "                         line1 = file.readline()\n",
        "                         print(line1)\n",
        "\n",
        "21. What is the logging module in Python used for?\n",
        "    - The logging module in Python is used to record messages about what's happening in our program while it runs.\n",
        "    - It is used in following ways:\n",
        "    - It helps track bugs and problems without stopping the program.\n",
        "    - Gives a clear picture of how our program runs.\n",
        "    - Better than print() for real-world or large programs.\n",
        "    - We can save logs to a file instead of just showing on screen.\n",
        "    - Logging supports different levels of messages:\n",
        "         - DEBUG: Detailed information for diagnosing problems.\n",
        "         - INFO: General information about program execution.\n",
        "         - WARNING: Something unexpected or a potential issue.\n",
        "         - ERROR: A more serious issue that prevents a part of the program from working.\n",
        "         - CRITICAL: A severe error indicating the program may not continue running.\n",
        "\n",
        "22. What is the os module in Python used for in file handling?\n",
        "    - The os module in Python is used to interact with the operating system — especially for working with files and folders.\n",
        "    - It is used for:\n",
        "      - check if file exists - os.path.exists()\n",
        "      - make a folder - os.mkdir()\n",
        "      - delete a file - os.remove()\n",
        "      - list files in folder - os.listdir()\n",
        "      - rename file/folder - os.rename()\n",
        "      - find current folder - os.getcwd()\n",
        "      - change folder - os.chdir()\n",
        "\n",
        "23. What are the challenges associated with memory management in Python?\n",
        "    - Memory management means how Python handles memory — like storing and cleaning up data the program uses (variables, lists, files, etc.).\n",
        "    - Challenges are:\n",
        "    - 1. Unused Data Not Removed Immediately:\n",
        "         - Python has something called Garbage Collection that removes unused data.\n",
        "         - But sometimes, it may not remove it right away, which can cause the program to use more memory than needed.\n",
        "    - 2. Memory Leaks:\n",
        "         - If our code keeps holding on to data it no longer needs, it won't get deleted.\n",
        "         - This is called a memory leak, and it can slow down or crash the program.\n",
        "    - 3. Large Data Structures:\n",
        "         - Working with big lists, dictionaries, or files can take up a lot of memory.\n",
        "        - If not handled carefully, our computer can run out of memory.\n",
        "    - 4. Circular References:\n",
        "         - If two or more objects refer to each other, Python may not know they can be deleted.\n",
        "         - This can confuse the garbage collector.\n",
        "    - 5. Global Variables:\n",
        "         - Using too many global variables (variables used everywhere in our code) makes memory hard to track and clean up.\n",
        "\n",
        "24. How do you raise an exception manually in Python?\n",
        "    - We can raise an exception manually in Python using the raise keyword. This is useful when we want our program to stop or warn the user if something goes wrong or if certain conditions are not met.\n",
        "\n",
        "                      age = int(input(\"Please enter your age: \"))\n",
        "                      if age < 18:\n",
        "                          raise ValueError(\"You must be 18 years old.\")\n",
        "\n",
        "25. Why is it important to use multithreading in certain applications?\n",
        "    - Multithreading means running multiple tasks at the same time within the same program. Each task runs in a \"thread\".\n",
        "    - It is important to use multithreading in certain applications because of following reasons:\n",
        "    - 1. Faster Execution (for waiting tasks): If the program has to wait for something (like downloading from the internet or reading files), other parts of the program can still keep working.\n",
        "        - Example: While one thread waits for a web page to load, another can show a progress bar.\n",
        "    - 2. Better Use of CPU Time: When one thread is waiting, the CPU can run another thread instead of sitting idle.\n",
        "    - 3. Improved User Experience (for GUI apps): In apps with a user interface (like games or desktop apps), multithreading helps keep the app responsive.\n",
        "    \n",
        "    - 4. Handles Many Tasks at Once: Multithreading helps when the app needs to do lots of similar things, like serving multiple users or processing multiple files.\n",
        "    - 5. Memory Sharing is Easy: All threads in a program share the same memory, which makes it easy to share data between them (unlike multiprocessing, where we need special ways to share data).\n",
        "\n",
        "\n",
        "\n",
        "\n",
        "\n",
        "\n",
        "\n",
        "\n",
        "\n",
        "\n",
        "\n",
        "\n",
        "\n",
        "\n",
        "\n"
      ],
      "metadata": {
        "id": "mNVBxCInOIoz"
      }
    },
    {
      "cell_type": "markdown",
      "source": [
        "# **Practical Questions**"
      ],
      "metadata": {
        "id": "ofpijmwrawn3"
      }
    },
    {
      "cell_type": "code",
      "source": [
        "# 1. How can you open a file for writing in Python and write a string to it?\n",
        "# Writing to the file\n",
        "with open(\"Note1.txt\", \"w\") as file:\n",
        "    line1 = file.write(\"This is my first line.\\n\")\n",
        "    line2 = file.write(\"This is my second line.\")"
      ],
      "metadata": {
        "id": "IaC6vcQ_a1lt"
      },
      "execution_count": null,
      "outputs": []
    },
    {
      "cell_type": "code",
      "source": [
        "# 2. Write a Python program to read the contents of a file and print each line.\n",
        "# Reading the file\n",
        "with open(\"Note1.txt\", \"r\") as file:\n",
        "    content = file.read()\n",
        "    print(content)"
      ],
      "metadata": {
        "colab": {
          "base_uri": "https://localhost:8080/"
        },
        "id": "3bOkXeKacqmx",
        "outputId": "51f30133-3317-4c89-b85a-e5f75c9141f7"
      },
      "execution_count": null,
      "outputs": [
        {
          "output_type": "stream",
          "name": "stdout",
          "text": [
            "This is my first line.\n",
            "This is my second line.\n"
          ]
        }
      ]
    },
    {
      "cell_type": "code",
      "source": [
        "# 3. How would you handle a case where the file doesn't exist while trying to open it for reading?\n",
        "try:\n",
        "    with open(\"Data.txt\", \"r\") as file:\n",
        "        content = file.read()\n",
        "        print(content)\n",
        "except FileNotFoundError:\n",
        "    print(\"The file does not exist.\")"
      ],
      "metadata": {
        "colab": {
          "base_uri": "https://localhost:8080/"
        },
        "id": "A6MJhuYdewxG",
        "outputId": "f6b672f1-c846-45ad-e823-4ea105ac2f89"
      },
      "execution_count": null,
      "outputs": [
        {
          "output_type": "stream",
          "name": "stdout",
          "text": [
            "The file does not exist.\n"
          ]
        }
      ]
    },
    {
      "cell_type": "code",
      "source": [
        "# 4. Write a Python script that reads from one file and writes its content to another file.\n",
        "with open(\"Note1.txt\", \"r\") as file1:\n",
        "    content = file1.read()\n",
        "with open(\"Note2.txt\", \"w\") as file2:\n",
        "    file2.write(content)"
      ],
      "metadata": {
        "id": "78CNti5vfvWU"
      },
      "execution_count": null,
      "outputs": []
    },
    {
      "cell_type": "code",
      "source": [
        "# 5. How would you catch and handle division by zero error in Python?\n",
        "try:\n",
        "    num1 = int(input(\"Please enter a number: \"))\n",
        "    result = 10/num1\n",
        "    print(result)\n",
        "except ZeroDivisionError:\n",
        "    print(\"Cannot divide by zero.\")"
      ],
      "metadata": {
        "colab": {
          "base_uri": "https://localhost:8080/"
        },
        "id": "wOl4bFW_grwI",
        "outputId": "3c4f7ca9-a609-4601-aa7f-0b3f548094cb"
      },
      "execution_count": null,
      "outputs": [
        {
          "output_type": "stream",
          "name": "stdout",
          "text": [
            "Please enter a number: 0\n",
            "Cannot divide by zero.\n"
          ]
        }
      ]
    },
    {
      "cell_type": "code",
      "source": [
        "# 6. Write a Python program that logs an error message to a log file when a division by zero exception occurs.\n",
        "import logging\n",
        "\n",
        "logging.basicConfig(filename=\"error.txt\", level=logging.error, format=\"%(asctime)s-%(levelname)s-%(message)s\")\n",
        "\n",
        "try:\n",
        "    num1 = int(input(\"Please enter a number: \"))\n",
        "    result = 10/num1\n",
        "    print(result)\n",
        "except ZeroDivisionError:\n",
        "    print(\"Cannot divide by zero.\")\n",
        "    logging.error(\"Division by zero error: %s\")"
      ],
      "metadata": {
        "colab": {
          "base_uri": "https://localhost:8080/"
        },
        "id": "ShR_bBcW1vyP",
        "outputId": "dca18d2a-11d5-4097-d368-7eaa1316aa62"
      },
      "execution_count": null,
      "outputs": [
        {
          "name": "stdout",
          "output_type": "stream",
          "text": [
            "Please enter a number: 0\n"
          ]
        },
        {
          "output_type": "stream",
          "name": "stderr",
          "text": [
            "ERROR:root:Division by zero error: %s\n"
          ]
        },
        {
          "output_type": "stream",
          "name": "stdout",
          "text": [
            "Cannot divide by zero.\n"
          ]
        }
      ]
    },
    {
      "cell_type": "code",
      "source": [
        "# 7. How do you log information at different levels (INFO, ERROR, WARNING) in Python using the logging module?\n",
        "import logging\n",
        "\n",
        "logging.basicConfig(level=logging.INFO, filename=\"app.log\", format=\"%(asctime)s-%(levelname)s-%(message)s\")\n",
        "\n",
        "# Logging at different levels\n",
        "logging.info(\"This is an INFO message\")\n",
        "logging.warning(\"This is a WARNING message\")\n",
        "logging.error(\"This is an ERROR message\")"
      ],
      "metadata": {
        "colab": {
          "base_uri": "https://localhost:8080/"
        },
        "id": "YpxE2Y9x40YV",
        "outputId": "7f674c43-8591-4353-e18b-ca39626ca1ef"
      },
      "execution_count": null,
      "outputs": [
        {
          "output_type": "stream",
          "name": "stderr",
          "text": [
            "WARNING:root:This is a WARNING message\n",
            "ERROR:root:This is an ERROR message\n"
          ]
        }
      ]
    },
    {
      "cell_type": "code",
      "source": [
        "# 8. Write a program to handle a file opening error using exception handling.\n",
        "try:\n",
        "    with open(\"app.txt\", \"r\") as file:\n",
        "        content = file.read()\n",
        "        print(content)\n",
        "except FileNotFoundError as e:\n",
        "    print(\"File not found\", e)"
      ],
      "metadata": {
        "colab": {
          "base_uri": "https://localhost:8080/"
        },
        "id": "1k5LQ3E462c8",
        "outputId": "296a83e1-a80c-429e-d90c-ccb1dadac876"
      },
      "execution_count": null,
      "outputs": [
        {
          "output_type": "stream",
          "name": "stdout",
          "text": [
            "File not found [Errno 2] No such file or directory: 'app.txt'\n"
          ]
        }
      ]
    },
    {
      "cell_type": "code",
      "source": [
        "# 9. How can you read a file line by line and store its content in a list in Python?\n",
        "list1 = []\n",
        "with open(\"Note1.txt\", \"r\") as file:\n",
        "    lines = file.readlines()\n",
        "    print(lines)"
      ],
      "metadata": {
        "colab": {
          "base_uri": "https://localhost:8080/"
        },
        "id": "k3LW1hfM74FI",
        "outputId": "0c7d410a-221a-47e5-a9ad-42ce6036f90e"
      },
      "execution_count": null,
      "outputs": [
        {
          "output_type": "stream",
          "name": "stdout",
          "text": [
            "['This is my first line.\\n', 'This is my second line.']\n"
          ]
        }
      ]
    },
    {
      "cell_type": "code",
      "source": [
        "# 10. How can you append data to an existing file in Python?\n",
        "with open(\"Note1.txt\", \"a\") as file:\n",
        "    line3 = file.write(\"This is my third line.\\n\")\n",
        "    print(\"Data has been updated.\")"
      ],
      "metadata": {
        "colab": {
          "base_uri": "https://localhost:8080/"
        },
        "id": "Gd8YL31Z9YNE",
        "outputId": "bc1ba32e-e4e6-4d31-9283-f435d2dce29c"
      },
      "execution_count": null,
      "outputs": [
        {
          "output_type": "stream",
          "name": "stdout",
          "text": [
            "Data has been updated.\n"
          ]
        }
      ]
    },
    {
      "cell_type": "code",
      "source": [
        "# 11. Write a Python program that uses a try-except block to handle an error when attempting to access a dictionary key that doesn't exist.\n",
        "try:\n",
        "    dict = {\"Author\": \"Paulo Coelho\", \"Book\": \"The Alchemist\"}\n",
        "    print(dict[\"Year\"])\n",
        "except KeyError as e:\n",
        "    print(\"Key not found\", e)"
      ],
      "metadata": {
        "colab": {
          "base_uri": "https://localhost:8080/"
        },
        "id": "8u9mVU7V-kNN",
        "outputId": "f30d9ed2-e82f-40c1-dedd-669d955ccec3"
      },
      "execution_count": null,
      "outputs": [
        {
          "output_type": "stream",
          "name": "stdout",
          "text": [
            "Key not found 'Year'\n"
          ]
        }
      ]
    },
    {
      "cell_type": "code",
      "source": [
        "# 12. Write a program that demonstrates using multiple except blocks to handle different types of exceptions.\n",
        "try:\n",
        "    num1 = int(input(\"Please enter a number: \"))\n",
        "    result = 10/num1\n",
        "    print(result)\n",
        "except KeyError:\n",
        "    print(\"Key not found\")\n",
        "except ZeroDivisionError:\n",
        "    print(\"Cannot divide by zero\")\n",
        "except ValueError:\n",
        "    print(\"Invalid value\")\n",
        "except Exception as e:\n",
        "    print(\"Some error has occured\", e)"
      ],
      "metadata": {
        "colab": {
          "base_uri": "https://localhost:8080/"
        },
        "id": "vliQMnjShWbZ",
        "outputId": "48ff304a-dd37-4131-f667-2fdb689699ca"
      },
      "execution_count": null,
      "outputs": [
        {
          "output_type": "stream",
          "name": "stdout",
          "text": [
            "Please enter a number: 0\n",
            "Cannot divide by zero\n"
          ]
        }
      ]
    },
    {
      "cell_type": "code",
      "source": [
        "# 13. How would you check if a file exists before attempting to read it in Python?\n",
        "import os\n",
        "file_path = \"Note1.txt\"\n",
        "\n",
        "if os.path.exists(file_path):\n",
        "    with open(file_path, \"r\") as file:\n",
        "        content = file.read()\n",
        "        print(content)\n",
        "else:\n",
        "    print(\"File does not exist.\")"
      ],
      "metadata": {
        "colab": {
          "base_uri": "https://localhost:8080/"
        },
        "id": "PdyXgoeRi1zW",
        "outputId": "5c46f41f-5ba1-4aaf-847c-eeb6c83b7a1a"
      },
      "execution_count": null,
      "outputs": [
        {
          "output_type": "stream",
          "name": "stdout",
          "text": [
            "File does not exist.\n"
          ]
        }
      ]
    },
    {
      "cell_type": "code",
      "source": [
        "# 14. Write a program that uses the logging module to log both informational and error messages.\n",
        "import logging\n",
        "\n",
        "logging.basicConfig(level=logging.INFO, filename=\"note1.log\", format='%(asctime)s-%(levelname)s-%(message)s', filemode=\"w\")\n",
        "\n",
        "def divide(a,b):\n",
        "    try:\n",
        "        logging.info(\"Dividing {a} by {b}\")\n",
        "        result = a/b\n",
        "        logging.info(\"Result is {result}\")\n",
        "        print(result)\n",
        "    except ZeroDivisionError:\n",
        "        logging.error(\"Cannot divide by zero.\")\n",
        "        print(\"Cannot divide by zero.\")\n",
        "\n",
        "divide(5,0)"
      ],
      "metadata": {
        "colab": {
          "base_uri": "https://localhost:8080/"
        },
        "id": "uAZexlrKlVd_",
        "outputId": "28b38344-25b4-42ec-d247-ad9085b319c5"
      },
      "execution_count": null,
      "outputs": [
        {
          "output_type": "stream",
          "name": "stderr",
          "text": [
            "ERROR:root:Cannot divide by zero.\n"
          ]
        },
        {
          "output_type": "stream",
          "name": "stdout",
          "text": [
            "Cannot divide by zero.\n"
          ]
        }
      ]
    },
    {
      "cell_type": "code",
      "source": [
        "# 15. Write a Python program that prints the content of a file and handles the case when the file is empty.\n",
        "try:\n",
        "    with open(\"Note1.txt\", \"r\") as file:\n",
        "        content = file.read()\n",
        "        if not content:\n",
        "            print(\"File is empty.\")\n",
        "        else:\n",
        "            print(content)\n",
        "except FileNotFoundError:\n",
        "    print(\"File does not exist.\")"
      ],
      "metadata": {
        "id": "Ik6L-dLnnxGf",
        "colab": {
          "base_uri": "https://localhost:8080/"
        },
        "outputId": "886da4ac-043a-40ef-9101-084c15c03457"
      },
      "execution_count": null,
      "outputs": [
        {
          "output_type": "stream",
          "name": "stdout",
          "text": [
            "This is my first line.\n",
            "This is my second line.\n"
          ]
        }
      ]
    },
    {
      "cell_type": "code",
      "source": [
        "# 16. Demonstrate how to use memory profiling to check the memory usage of a small program.\n",
        "!pip install memory-profiler\n",
        "from memory_profiler import memory_usage\n",
        "\n",
        "def my_function():\n",
        "    a= [i**2 for i in range(5000)]\n",
        "    return a\n",
        "\n",
        "mem_usage = memory_usage(my_function)\n",
        "print(f\"Memory usage: {mem_usage} MiB\")"
      ],
      "metadata": {
        "colab": {
          "base_uri": "https://localhost:8080/"
        },
        "id": "Qq8x7M-ure3R",
        "outputId": "ac824142-16f4-400e-b623-b9b923bd66c2"
      },
      "execution_count": null,
      "outputs": [
        {
          "output_type": "stream",
          "name": "stdout",
          "text": [
            "Collecting memory-profiler\n",
            "  Downloading memory_profiler-0.61.0-py3-none-any.whl.metadata (20 kB)\n",
            "Requirement already satisfied: psutil in /usr/local/lib/python3.11/dist-packages (from memory-profiler) (5.9.5)\n",
            "Downloading memory_profiler-0.61.0-py3-none-any.whl (31 kB)\n",
            "Installing collected packages: memory-profiler\n",
            "Successfully installed memory-profiler-0.61.0\n",
            "Memory usage: [309.91015625, 309.91015625, 309.91015625] MiB\n"
          ]
        }
      ]
    },
    {
      "cell_type": "code",
      "source": [
        "# 17. Write a Python program to create and write a list of numbers to a file, one number per line.\n",
        "numbers = [10,20,30,40,50]\n",
        "with open(\"numbers.txt\", \"w\") as file:\n",
        "    for number in numbers:\n",
        "        file.write(str(number) + \"\\n\")\n",
        "print(\"numbers are: 'numbers.txt'\")\n",
        "\n",
        "with open(\"numbers.txt\", \"r\") as file:\n",
        "    content = file.read()\n",
        "    print(content)"
      ],
      "metadata": {
        "colab": {
          "base_uri": "https://localhost:8080/"
        },
        "id": "JxTvSNGzvPb3",
        "outputId": "905bb913-8fc7-4453-8577-fa51ed38d3db"
      },
      "execution_count": null,
      "outputs": [
        {
          "output_type": "stream",
          "name": "stdout",
          "text": [
            "numbers are: 'numbers.txt'\n",
            "10\n",
            "20\n",
            "30\n",
            "40\n",
            "50\n",
            "\n"
          ]
        }
      ]
    },
    {
      "cell_type": "code",
      "source": [
        "# 18. How would you implement a basic logging setup that logs to a file with rotation after 1MB?\n",
        "import logging\n",
        "from logging.handlers import RotatingFileHandler\n",
        "\n",
        "logger = logging.getLogger(\"MyLogger\")\n",
        "logger.setLevel(logging.INFO)\n",
        "\n",
        "handler = RotatingFileHandler(\n",
        "    \"my_log.log\",         # Log file name\n",
        "    maxBytes=1_000_000,   # Rotate after 1 MB (1_000_000 bytes)\n",
        "    backupCount=3         # Keep up to 3 old log files\n",
        ")\n",
        "\n",
        "formatter = logging.Formatter('%(asctime)s - %(levelname)s - %(message)s')\n",
        "handler.setFormatter(formatter)\n",
        "\n",
        "logger.addHandler(handler)\n",
        "\n",
        "for i in range(10000):\n",
        "    logger.info(f\"Log message number {i}\")"
      ],
      "metadata": {
        "id": "3X7MW-CdydCn"
      },
      "execution_count": null,
      "outputs": []
    },
    {
      "cell_type": "code",
      "source": [
        "# 19. Write a program that handles both IndexError and KeyError using a try-except block.\n",
        "try:\n",
        "    result = {\"name\": \"Swar\", \"age\": 25}\n",
        "    print(result[\"name\"])\n",
        "    result1 = [5,10,15,20]\n",
        "    print(result1[8])\n",
        "except (IndexError, KeyError) as e:\n",
        "    print(f\"There is an error {e}.\")"
      ],
      "metadata": {
        "colab": {
          "base_uri": "https://localhost:8080/"
        },
        "id": "yzAPe05V_1B1",
        "outputId": "78ce4033-e9d3-4cee-820b-e19595b2cecd"
      },
      "execution_count": null,
      "outputs": [
        {
          "output_type": "stream",
          "name": "stdout",
          "text": [
            "Swar\n",
            "There is an error list index out of range.\n"
          ]
        }
      ]
    },
    {
      "cell_type": "code",
      "source": [
        "# 20. How would you open a file and read its contents using a context manager in Python?\n",
        "with open(\"Note1.txt\", \"r\") as file:\n",
        "    content = file.read()\n",
        "    print(content)"
      ],
      "metadata": {
        "colab": {
          "base_uri": "https://localhost:8080/"
        },
        "id": "aGKYh-N4Ba59",
        "outputId": "b7954d11-7605-4ef2-935e-4c13aebe4d10"
      },
      "execution_count": null,
      "outputs": [
        {
          "output_type": "stream",
          "name": "stdout",
          "text": [
            "This is my first line.\n",
            "This is my second line.\n"
          ]
        }
      ]
    },
    {
      "cell_type": "code",
      "source": [
        "# 21. Write a Python program that reads a file and prints the number of occurrences of a specific word.\n",
        "with open(\"Note1.txt\", \"r\") as file:\n",
        "    content = file.read()\n",
        "\n",
        "    word_count = content.count(\"This\")\n",
        "    print(f\"The word 'This' appears {word_count} number of times.\")"
      ],
      "metadata": {
        "id": "eGuQdFIlEBEO",
        "colab": {
          "base_uri": "https://localhost:8080/"
        },
        "outputId": "4e94bbe4-37c3-44d4-8362-1aad3aca5fce"
      },
      "execution_count": null,
      "outputs": [
        {
          "output_type": "stream",
          "name": "stdout",
          "text": [
            "The word 'This' appears 2 number of times.\n"
          ]
        }
      ]
    },
    {
      "cell_type": "code",
      "source": [
        "# 22. How can you check if a file is empty before attempting to read its contents?\n",
        "import os\n",
        "\n",
        "if os.stat(\"numbers.txt\").st_size == 0:\n",
        "    print(\"The file is empty.\")\n",
        "else:\n",
        "    with open(\"numbers.txt\", \"r\") as file:\n",
        "        content = file.read()\n",
        "        print(content)"
      ],
      "metadata": {
        "colab": {
          "base_uri": "https://localhost:8080/"
        },
        "id": "oewIm3j0HlgV",
        "outputId": "69ef5bcd-0a12-44c2-c257-ace36e6eedc8"
      },
      "execution_count": null,
      "outputs": [
        {
          "output_type": "stream",
          "name": "stdout",
          "text": [
            "The file is empty.\n"
          ]
        }
      ]
    },
    {
      "cell_type": "code",
      "source": [
        "# 23. Write a Python program that writes to a log file when an error occurs during file handling.\n",
        "import logging\n",
        "\n",
        "logging.basicConfig(filename=\"log_detail.log\", level=logging.ERROR)\n",
        "\n",
        "try:\n",
        "    with open(\"Note11.txt\", \"r\") as file:\n",
        "        content = file.read()\n",
        "        print(content)\n",
        "except FileNotFoundError:\n",
        "    logging.error(\"File not found\")\n",
        "    print(\"File not found\")"
      ],
      "metadata": {
        "colab": {
          "base_uri": "https://localhost:8080/"
        },
        "id": "VGKN7nttLIlt",
        "outputId": "35af2c33-a873-4c4a-f970-c2fb32a1bb9f"
      },
      "execution_count": null,
      "outputs": [
        {
          "output_type": "stream",
          "name": "stderr",
          "text": [
            "ERROR:root:File not found\n"
          ]
        },
        {
          "output_type": "stream",
          "name": "stdout",
          "text": [
            "File not found\n"
          ]
        }
      ]
    }
  ]
}